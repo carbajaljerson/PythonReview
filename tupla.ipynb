{
 "cells": [
  {
   "cell_type": "markdown",
   "metadata": {},
   "source": [
    "## Tuplas"
   ]
  },
  {
   "cell_type": "markdown",
   "metadata": {},
   "source": [
    "Es una secuencia inmutable, esto quiere decir que la tupla no puede ser modificada una vez creada \n",
    "por lo que no se podrán añadir ni eliminar los elementos de la tupla.\n",
    "\n",
    "Los elementos de una tupla se encuentran entre paréntesis y están separados por comas.\n"
   ]
  },
  {
   "cell_type": "code",
   "execution_count": 1,
   "metadata": {},
   "outputs": [
    {
     "name": "stdout",
     "output_type": "stream",
     "text": [
      "<class 'tuple'>\n",
      "(1, 3, 5)\n"
     ]
    }
   ],
   "source": [
    "#[1° Forma]Creación de tuplas\n",
    "tupla = 1,3,5\n",
    "\n",
    "print(type(tupla))\n",
    "print(tupla)"
   ]
  },
  {
   "cell_type": "code",
   "execution_count": 2,
   "metadata": {},
   "outputs": [
    {
     "name": "stdout",
     "output_type": "stream",
     "text": [
      "<class 'tuple'>\n"
     ]
    },
    {
     "data": {
      "text/plain": [
       "('Primer elemento', 11, True, 'Ciencia de Datos', [2, 4, 8, 16, 32])"
      ]
     },
     "execution_count": 2,
     "metadata": {},
     "output_type": "execute_result"
    }
   ],
   "source": [
    "#[2° Forma]Creación de tuplas\n",
    "tupla = ('Primer elemento', 11, True, \"Ciencia de Datos\",[2,4,8,16,32])\n",
    "print(type(tupla))\n",
    "tupla"
   ]
  },
  {
   "cell_type": "code",
   "execution_count": 3,
   "metadata": {},
   "outputs": [
    {
     "name": "stdout",
     "output_type": "stream",
     "text": [
      "('C', 'i', 'e', 'n', 'c', 'i', 'a', ' ', 'd', 'e', ' ', 'D', 'a', 't', 'o', 's')\n"
     ]
    }
   ],
   "source": [
    "# [3° Forma] Creación de tuplas \n",
    "cadena = \"Ciencia de Datos\"\n",
    "var_tupla = tuple(cadena)\n",
    "print(var_tupla)"
   ]
  },
  {
   "cell_type": "code",
   "execution_count": 4,
   "metadata": {},
   "outputs": [
    {
     "data": {
      "text/plain": [
       "5"
      ]
     },
     "execution_count": 4,
     "metadata": {},
     "output_type": "execute_result"
    }
   ],
   "source": [
    "#Nro. de Elementos de la Tupla\n",
    "len(tupla)\n"
   ]
  },
  {
   "cell_type": "code",
   "execution_count": 5,
   "metadata": {},
   "outputs": [
    {
     "name": "stdout",
     "output_type": "stream",
     "text": [
      "Tipo de Dato t1: <class 'int'>\n",
      "Tipo de Dato t2: <class 'tuple'>\n"
     ]
    }
   ],
   "source": [
    "#Diferencia entre un entero y una Tupla\n",
    "t1 =(100)\n",
    "print('Tipo de Dato t1:',type(t1))\n",
    "\n",
    "t2= (100,)\n",
    "print('Tipo de Dato t2:',type(t2))"
   ]
  },
  {
   "cell_type": "markdown",
   "metadata": {},
   "source": [
    "#### Contar elementos"
   ]
  },
  {
   "cell_type": "code",
   "execution_count": 6,
   "metadata": {},
   "outputs": [
    {
     "data": {
      "text/plain": [
       "('Primer elemento', 11, True, 'Ciencia de Datos', [2, 4, 8, 16, 32])"
      ]
     },
     "execution_count": 6,
     "metadata": {},
     "output_type": "execute_result"
    }
   ],
   "source": [
    "tupla"
   ]
  },
  {
   "cell_type": "code",
   "execution_count": 7,
   "metadata": {},
   "outputs": [
    {
     "data": {
      "text/plain": [
       "0"
      ]
     },
     "execution_count": 7,
     "metadata": {},
     "output_type": "execute_result"
    }
   ],
   "source": [
    "#Nro. de veces que aparece un número en una tupla\n",
    "tupla.count(5)"
   ]
  },
  {
   "cell_type": "code",
   "execution_count": 8,
   "metadata": {},
   "outputs": [
    {
     "data": {
      "text/plain": [
       "1"
      ]
     },
     "execution_count": 8,
     "metadata": {},
     "output_type": "execute_result"
    }
   ],
   "source": [
    "tupla.count(11)"
   ]
  },
  {
   "cell_type": "markdown",
   "metadata": {},
   "source": [
    "#### Buscar elemento"
   ]
  },
  {
   "cell_type": "code",
   "execution_count": 9,
   "metadata": {},
   "outputs": [
    {
     "name": "stdout",
     "output_type": "stream",
     "text": [
      "Tupla : ('C', 'i', 'e', 'n', 'c', 'i', 'a', ' ', 'd', 'e', ' ', 'D', 'a', 't', 'o', 's')\n"
     ]
    },
    {
     "data": {
      "text/plain": [
       "11"
      ]
     },
     "execution_count": 9,
     "metadata": {},
     "output_type": "execute_result"
    }
   ],
   "source": [
    "#Buscar elemento y conocer su posición en la tupla (indice)\n",
    "print('Tupla :',var_tupla)\n",
    "\n",
    "index = var_tupla.index('D')\n",
    "index"
   ]
  },
  {
   "cell_type": "code",
   "execution_count": 10,
   "metadata": {},
   "outputs": [
    {
     "name": "stdout",
     "output_type": "stream",
     "text": [
      "('C', 'i', 'e', 'n', 'c', 'i', 'a', ' ', 'd', 'e', ' ', 'D', 'a', 't', 'o', 's')\n"
     ]
    },
    {
     "data": {
      "text/plain": [
       "True"
      ]
     },
     "execution_count": 10,
     "metadata": {},
     "output_type": "execute_result"
    }
   ],
   "source": [
    "# Verificar si elemento se encuentra en la Tupla\n",
    "print(var_tupla)\n",
    "'a' in  var_tupla"
   ]
  },
  {
   "cell_type": "code",
   "execution_count": 11,
   "metadata": {},
   "outputs": [
    {
     "data": {
      "text/plain": [
       "False"
      ]
     },
     "execution_count": 11,
     "metadata": {},
     "output_type": "execute_result"
    }
   ],
   "source": [
    "# Verificar si elemento se encuentra en la Tupla\n",
    "'u' in  var_tupla\n"
   ]
  },
  {
   "cell_type": "markdown",
   "metadata": {},
   "source": [
    "#### Selección de Elementos de una Tupla"
   ]
  },
  {
   "cell_type": "code",
   "execution_count": 12,
   "metadata": {},
   "outputs": [
    {
     "name": "stdout",
     "output_type": "stream",
     "text": [
      "Tupla : ('C', 'i', 'e', 'n', 'c', 'i', 'a', ' ', 'd', 'e', ' ', 'D', 'a', 't', 'o', 's')\n"
     ]
    },
    {
     "data": {
      "text/plain": [
       "'C'"
      ]
     },
     "execution_count": 12,
     "metadata": {},
     "output_type": "execute_result"
    }
   ],
   "source": [
    "print('Tupla :', var_tupla)\n",
    "\n",
    "#Retornar el primer elemento de la tupla\n",
    "var_tupla[0]"
   ]
  },
  {
   "cell_type": "code",
   "execution_count": 13,
   "metadata": {},
   "outputs": [
    {
     "data": {
      "text/plain": [
       "('C', 'i', 'e', 'n', 'c', 'i', 'a')"
      ]
     },
     "execution_count": 13,
     "metadata": {},
     "output_type": "execute_result"
    }
   ],
   "source": [
    "#Retornar los primeros 7 elementos\n",
    "var_tupla[0:7]"
   ]
  },
  {
   "cell_type": "code",
   "execution_count": 14,
   "metadata": {},
   "outputs": [
    {
     "data": {
      "text/plain": [
       "('C', 'i', 'e', 'n', 'c', 'i', 'a', ' ', 'd', 'e')"
      ]
     },
     "execution_count": 14,
     "metadata": {},
     "output_type": "execute_result"
    }
   ],
   "source": [
    "#Retornar los primeros 10 elementos\n",
    "var_tupla[:10]"
   ]
  },
  {
   "cell_type": "code",
   "execution_count": 15,
   "metadata": {},
   "outputs": [
    {
     "data": {
      "text/plain": [
       "('D', 'a', 't', 'o', 's')"
      ]
     },
     "execution_count": 15,
     "metadata": {},
     "output_type": "execute_result"
    }
   ],
   "source": [
    "#Retornar los últimos 5 elementos\n",
    "var_tupla[-5:]"
   ]
  },
  {
   "cell_type": "code",
   "execution_count": 16,
   "metadata": {},
   "outputs": [
    {
     "data": {
      "text/plain": [
       "'s'"
      ]
     },
     "execution_count": 16,
     "metadata": {},
     "output_type": "execute_result"
    }
   ],
   "source": [
    "#Retornar el último elemento\n",
    "var_tupla[-1]"
   ]
  },
  {
   "cell_type": "markdown",
   "metadata": {},
   "source": [
    "#### Unir Tuplas"
   ]
  },
  {
   "cell_type": "code",
   "execution_count": 23,
   "metadata": {},
   "outputs": [
    {
     "name": "stdout",
     "output_type": "stream",
     "text": [
      "Tupla 1: ('Primer elemento', 11, True)\n",
      "Tupla 2: ('D', 'a', 't', 'o', 's')\n",
      "Tupla Unión: ('Primer elemento', 11, True, 'D', 'a', 't', 'o', 's')\n"
     ]
    }
   ],
   "source": [
    "var_tupla = var_tupla[-5:]\n",
    "tupla = tupla[0:3]\n",
    "print('Tupla 1:', tupla)\n",
    "print('Tupla 2:', var_tupla)\n",
    "\n",
    "tupla_union = tupla + var_tupla\n",
    "print('Tupla Unión:', tupla_union)"
   ]
  },
  {
   "cell_type": "markdown",
   "metadata": {},
   "source": [
    "#### Ordenar Tuplas"
   ]
  },
  {
   "cell_type": "code",
   "execution_count": 41,
   "metadata": {},
   "outputs": [
    {
     "data": {
      "text/plain": [
       "[1, 9, 13, 27, 49, 58]"
      ]
     },
     "execution_count": 41,
     "metadata": {},
     "output_type": "execute_result"
    }
   ],
   "source": [
    "tupla_numeros = (1,13,27,58,49,9)\n",
    "sorted(tupla_numeros)"
   ]
  }
 ],
 "metadata": {
  "kernelspec": {
   "display_name": "Python 3",
   "language": "python",
   "name": "python3"
  },
  "language_info": {
   "codemirror_mode": {
    "name": "ipython",
    "version": 3
   },
   "file_extension": ".py",
   "mimetype": "text/x-python",
   "name": "python",
   "nbconvert_exporter": "python",
   "pygments_lexer": "ipython3",
   "version": "3.11.4"
  }
 },
 "nbformat": 4,
 "nbformat_minor": 2
}
